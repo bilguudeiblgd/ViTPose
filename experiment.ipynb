{
 "cells": [
  {
   "cell_type": "code",
   "execution_count": 22,
   "metadata": {},
   "outputs": [],
   "source": [
    "from mmpose.datasets import build_dataset\n",
    "from mmpose.models import build_posenet\n",
    "from mmpose.apis import train_model\n",
    "from mmcv.runner import get_dist_info, init_dist, load_checkpoint\n",
    "import torch\n",
    "import mmcv\n",
    "\n",
    "from mmcv import Config\n",
    "\n",
    "\n",
    "# create work_dir"
   ]
  },
  {
   "cell_type": "code",
   "execution_count": 25,
   "metadata": {},
   "outputs": [
    {
     "name": "stdout",
     "output_type": "stream",
     "text": [
      "loading annotations into memory...\n",
      "Done (t=0.26s)\n",
      "creating index...\n",
      "index created!\n",
      "=> num_images: 5000\n",
      "=> load 6352 samples\n",
      "Use load_from_local loader\n",
      "The model and loaded state dict do not match exactly\n",
      "\n",
      "unexpected key in source state_dict: backbone.cls_token\n",
      "\n"
     ]
    }
   ],
   "source": [
    "cfg = Config.fromfile(\n",
    "    './configs/body/2d_kpt_sview_rgb_img/topdown_heatmap/coco/ViTPose_base_coco_256x192_multi_head.py'\n",
    ")\n",
    "\n",
    "# build dataset\n",
    "datasets = [build_dataset(cfg.data.test)]\n",
    "\n",
    "# build model\n",
    "model = build_posenet(cfg.model)\n",
    "loaded_model = load_checkpoint(model, \"../models/vitpose_base_coco_aic_mpii.pth\", map_location='cpu')"
   ]
  },
  {
   "cell_type": "code",
   "execution_count": 27,
   "metadata": {},
   "outputs": [
    {
     "name": "stdout",
     "output_type": "stream",
     "text": [
      "torch.Size([17, 256, 1, 1])\n"
     ]
    },
    {
     "data": {
      "text/plain": [
       "tensor([ 1.4054e-05,  9.5262e-06,  1.7533e-05, -1.6332e-05,  2.1768e-05,\n",
       "         1.1705e-05,  2.9549e-05,  3.7925e-05,  2.0583e-06,  2.3443e-05,\n",
       "         2.1198e-05,  4.6196e-05,  2.4208e-05,  8.2198e-06,  0.0000e+00,\n",
       "         0.0000e+00,  0.0000e+00])"
      ]
     },
     "execution_count": 27,
     "metadata": {},
     "output_type": "execute_result"
    }
   ],
   "source": [
    "load_model = torch.load('../models/vitpose_base_coco_aic_mpii.pth')\n",
    "print(load_model['state_dict']['associate_keypoint_heads.0.final_layer.weight'].shape)\n",
    "\n",
    "load_model['state_dict']['associate_keypoint_heads.0.final_layer.bias']"
   ]
  },
  {
   "cell_type": "code",
   "execution_count": 33,
   "metadata": {},
   "outputs": [
    {
     "data": {
      "text/plain": [
       "torch.Size([200, 16, 2])"
      ]
     },
     "execution_count": 33,
     "metadata": {},
     "output_type": "execute_result"
    }
   ],
   "source": [
    "a = torch.ones((200, 17, 2))\n",
    "a = a[:, :-1 ]\n",
    "a.shape"
   ]
  }
 ],
 "metadata": {
  "kernelspec": {
   "display_name": "Python 3",
   "language": "python",
   "name": "python3"
  },
  "language_info": {
   "codemirror_mode": {
    "name": "ipython",
    "version": 3
   },
   "file_extension": ".py",
   "mimetype": "text/x-python",
   "name": "python",
   "nbconvert_exporter": "python",
   "pygments_lexer": "ipython3",
   "version": "3.8.18"
  }
 },
 "nbformat": 4,
 "nbformat_minor": 2
}
